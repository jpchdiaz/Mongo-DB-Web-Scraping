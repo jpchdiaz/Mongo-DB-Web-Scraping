{
 "cells": [
  {
   "cell_type": "code",
   "execution_count": 1,
   "metadata": {},
   "outputs": [
    {
     "ename": "ModuleNotFoundError",
     "evalue": "No module named 'splinter'",
     "output_type": "error",
     "traceback": [
      "\u001b[1;31m---------------------------------------------------------------------------\u001b[0m",
      "\u001b[1;31mModuleNotFoundError\u001b[0m                       Traceback (most recent call last)",
      "\u001b[1;32m<ipython-input-1-19919cc323ea>\u001b[0m in \u001b[0;36m<module>\u001b[1;34m()\u001b[0m\n\u001b[1;32m----> 1\u001b[1;33m \u001b[1;32mfrom\u001b[0m \u001b[0msplinter\u001b[0m \u001b[1;32mimport\u001b[0m \u001b[0mBrowser\u001b[0m\u001b[1;33m\u001b[0m\u001b[0m\n\u001b[0m\u001b[0;32m      2\u001b[0m \u001b[1;32mfrom\u001b[0m \u001b[0mbs4\u001b[0m \u001b[1;32mimport\u001b[0m \u001b[0mBeautifulSoup\u001b[0m\u001b[1;33m\u001b[0m\u001b[0m\n",
      "\u001b[1;31mModuleNotFoundError\u001b[0m: No module named 'splinter'"
     ]
    }
   ],
   "source": [
    "from splinter import Browser\n",
    "from bs4 import BeautifulSoup"
   ]
  },
  {
   "cell_type": "markdown",
   "metadata": {},
   "source": [
    "# Mac Users"
   ]
  },
  {
   "cell_type": "code",
   "execution_count": null,
   "metadata": {},
   "outputs": [],
   "source": [
    "# https://splinter.readthedocs.io/en/latest/drivers/chrome.html\n",
    "!which chromedriver"
   ]
  },
  {
   "cell_type": "code",
   "execution_count": null,
   "metadata": {
    "collapsed": true
   },
   "outputs": [],
   "source": [
    "# executable_path = {'executable_path': '/usr/local/bin/chromedriver'}\n",
    "# browser = Browser('chrome', **executable_path, headless=False)"
   ]
  },
  {
   "cell_type": "markdown",
   "metadata": {},
   "source": [
    "# Windows Users"
   ]
  },
  {
   "cell_type": "code",
   "execution_count": 4,
   "metadata": {},
   "outputs": [],
   "source": [
    "executable_path = {'executable_path': 'chromedriver.exe'}\n",
    "browser = Browser('chrome', **executable_path, headless=False)"
   ]
  },
  {
   "cell_type": "code",
   "execution_count": 5,
   "metadata": {},
   "outputs": [],
   "source": [
    "url = 'http://books.toscrape.com/'\n",
    "browser.visit(url)"
   ]
  },
  {
   "cell_type": "code",
   "execution_count": 36,
   "metadata": {},
   "outputs": [
    {
     "name": "stdout",
     "output_type": "stream",
     "text": [
      "------\n",
      "Modern Romance\n",
      "modern-romance_820/index.html\n",
      "------\n",
      "Miss Peregrine’s Home for Peculiar Children (Miss Peregrine’s Peculiar Children #1)\n",
      "miss-peregrines-home-for-peculiar-children-miss-peregrines-peculiar-children-1_819/index.html\n",
      "------\n",
      "Louisa: The Extraordinary Life of Mrs. Adams\n",
      "louisa-the-extraordinary-life-of-mrs-adams_818/index.html\n",
      "------\n",
      "Little Red\n",
      "little-red_817/index.html\n",
      "------\n",
      "Library of Souls (Miss Peregrine’s Peculiar Children #3)\n",
      "library-of-souls-miss-peregrines-peculiar-children-3_816/index.html\n",
      "------\n",
      "Large Print Heart of the Pride\n",
      "large-print-heart-of-the-pride_815/index.html\n",
      "------\n",
      "I Had a Nice Time And Other Lies...: How to find love & sh*t like that\n",
      "i-had-a-nice-time-and-other-lies-how-to-find-love-sht-like-that_814/index.html\n",
      "------\n",
      "Hollow City (Miss Peregrine’s Peculiar Children #2)\n",
      "hollow-city-miss-peregrines-peculiar-children-2_813/index.html\n",
      "------\n",
      "Grumbles\n",
      "grumbles_812/index.html\n",
      "------\n",
      "Full Moon over Noah’s Ark: An Odyssey to Mount Ararat and Beyond\n",
      "full-moon-over-noahs-ark-an-odyssey-to-mount-ararat-and-beyond_811/index.html\n",
      "------\n",
      "Frostbite (Vampire Academy #2)\n",
      "frostbite-vampire-academy-2_810/index.html\n",
      "------\n",
      "Follow You Home\n",
      "follow-you-home_809/index.html\n",
      "------\n",
      "First Steps for New Christians (Print Edition)\n",
      "first-steps-for-new-christians-print-edition_808/index.html\n",
      "------\n",
      "Finders Keepers (Bill Hodges Trilogy #2)\n",
      "finders-keepers-bill-hodges-trilogy-2_807/index.html\n",
      "------\n",
      "Fables, Vol. 1: Legends in Exile (Fables #1)\n",
      "fables-vol-1-legends-in-exile-fables-1_806/index.html\n",
      "------\n",
      "Eureka Trivia 6.0\n",
      "eureka-trivia-60_805/index.html\n",
      "------\n",
      "Drive: The Surprising Truth About What Motivates Us\n",
      "drive-the-surprising-truth-about-what-motivates-us_804/index.html\n",
      "------\n",
      "Done Rubbed Out (Reightman & Bailey #1)\n",
      "done-rubbed-out-reightman-bailey-1_803/index.html\n",
      "------\n",
      "Doing It Over (Most Likely To #1)\n",
      "doing-it-over-most-likely-to-1_802/index.html\n",
      "------\n",
      "Deliciously Ella Every Day: Quick and Easy Recipes for Gluten-Free Snacks, Packed Lunches, and Simple Meals\n",
      "deliciously-ella-every-day-quick-and-easy-recipes-for-gluten-free-snacks-packed-lunches-and-simple-meals_801/index.html\n"
     ]
    }
   ],
   "source": [
    "for x in range(1, 2):\n",
    "    \n",
    "    html = browser.html\n",
    "    soup = BeautifulSoup(html, 'html.parser')\n",
    "    \n",
    "#     titles = soup.find_all('h3')\n",
    "    titles = soup.find_all('article', class_='product_pod')\n",
    "    \n",
    "    for title in titles:\n",
    "        print('------')\n",
    "#         these work for me\n",
    "        print(title.h3.a['title'])\n",
    "        print(title.h3.a['href'])\n",
    "# teacher example:\n",
    "#         head3 = title.find('h3')\n",
    "#         link = head3.find('a')\n",
    "#         href = link['href']\n",
    "#         book_title = link['title']\n",
    "#         print(title)\n",
    "#         print(href)\n",
    "        \n",
    "    browser.click_link_by_partial_text('next')"
   ]
  },
  {
   "cell_type": "code",
   "execution_count": null,
   "metadata": {},
   "outputs": [],
   "source": []
  }
 ],
 "metadata": {
  "kernelspec": {
   "display_name": "Python 3",
   "language": "python",
   "name": "python3"
  },
  "language_info": {
   "codemirror_mode": {
    "name": "ipython",
    "version": 3
   },
   "file_extension": ".py",
   "mimetype": "text/x-python",
   "name": "python",
   "nbconvert_exporter": "python",
   "pygments_lexer": "ipython3",
   "version": "3.6.4"
  },
  "varInspector": {
   "cols": {
    "lenName": 16,
    "lenType": 16,
    "lenVar": 40
   },
   "kernels_config": {
    "python": {
     "delete_cmd_postfix": "",
     "delete_cmd_prefix": "del ",
     "library": "var_list.py",
     "varRefreshCmd": "print(var_dic_list())"
    },
    "r": {
     "delete_cmd_postfix": ") ",
     "delete_cmd_prefix": "rm(",
     "library": "var_list.r",
     "varRefreshCmd": "cat(var_dic_list()) "
    }
   },
   "types_to_exclude": [
    "module",
    "function",
    "builtin_function_or_method",
    "instance",
    "_Feature"
   ],
   "window_display": false
  }
 },
 "nbformat": 4,
 "nbformat_minor": 2
}
